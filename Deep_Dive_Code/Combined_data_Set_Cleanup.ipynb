{
 "cells": [
  {
   "cell_type": "code",
   "execution_count": 1,
   "metadata": {},
   "outputs": [],
   "source": [
    "import requests\n",
    "import json\n",
    "from pprint import pprint\n",
    "import pandas as pd\n",
    "from config import client_id\n",
    "from config import client_auth_key\n",
    "import matplotlib.pyplot as plt"
   ]
  },
  {
   "cell_type": "code",
   "execution_count": 2,
   "metadata": {},
   "outputs": [],
   "source": [
    "url = \"https://api.jobspikr.com/sandbox/v1/data\"\n",
    "search_string = {\"query_string\": {\"default_field\": \"job_title\",\n",
    "                                  \"query\": \"\\\"Data Scientist\\\"OR \\\"Data Engineer\\\"\"}}\n",
    "\n",
    "stjson = json.dumps(search_string)\n",
    "\n",
    "payload = { \"client_id\" : client_id,\n",
    "           \"client_auth_key\" : client_auth_key,\n",
    "           \"search_query_string\" : stjson }\n",
    "\n",
    "req = requests.get(url, params=payload).json()\n",
    "\n",
    "\n",
    "job_title=[]\n",
    "category = []\n",
    "company_name = []\n",
    "inferred_city =[]\n",
    "inferred_state=[]\n",
    "inferred_country=[]\n",
    "post_date=[]\n",
    "job_description=[]\n",
    "job_type=[]\n",
    "job_board=[]\n",
    "uniq_id = []\n",
    "\n",
    "\n",
    "\n",
    "keys = [\"job_title\",\"category\",\"company_name\",\n",
    "        \"inferred_city\",\"inferred_state\",\"inferred_country\",\n",
    "        \"post_date\",\"job_description\",\"job_type\",\"job_board\",\"uniq_id\"]\n",
    "\n",
    "def append_key_if_present(json, key):\n",
    "    try:\n",
    "        key_data = req[\"job_data\"][job][key]\n",
    "        if key_data == \"[]\" or key_data == None:\n",
    "           key_data = \"#N/A\"\n",
    "    except KeyError:\n",
    "        key_data = \"#N/A\"\n",
    "    return key_data\n",
    "\n",
    "\n",
    "Total_jobs = len(req[\"job_data\"])\n",
    "\n",
    "for job in range(Total_jobs):\n",
    "    for key in keys:\n",
    "        key_data = append_key_if_present(job,key)\n",
    "        if key == keys[0]:\n",
    "            job_title.append(key_data)\n",
    "        elif key == keys[1]:\n",
    "            category.append(key_data)\n",
    "        elif key == keys[2]:\n",
    "            company_name.append(key_data)  \n",
    "        elif key == keys[3]:\n",
    "            inferred_city.append(key_data)\n",
    "        elif key == keys[4]:\n",
    "            inferred_state.append(key_data)\n",
    "        elif key == keys[5]:\n",
    "            inferred_country.append(key_data)\n",
    "        elif key == keys[6]:\n",
    "            post_date.append(key_data)\n",
    "        elif key == keys[7]:\n",
    "            job_description.append(key_data)\n",
    "        elif key == keys[8]:\n",
    "            job_type.append(key_data)\n",
    "        elif key == keys[9]:\n",
    "            job_board.append(key_data)\n",
    "        elif key == keys[10]:\n",
    "            uniq_id.append(key_data)\n",
    "      \n",
    "   "
   ]
  },
  {
   "cell_type": "code",
   "execution_count": 3,
   "metadata": {},
   "outputs": [
    {
     "data": {
      "text/plain": [
       "job_title           100\n",
       "category            100\n",
       "company_name        100\n",
       "inferred_city       100\n",
       "inferred_state      100\n",
       "inferred_country    100\n",
       "post_date           100\n",
       "job_description     100\n",
       "job_type            100\n",
       "job_board           100\n",
       "uniq_id             100\n",
       "dtype: int64"
      ]
     },
     "execution_count": 3,
     "metadata": {},
     "output_type": "execute_result"
    }
   ],
   "source": [
    "jobs_df = pd.DataFrame({\"job_title\":job_title,\n",
    "                        \"category\" :category,\n",
    "                        \"company_name\" :company_name,\n",
    "                        \"inferred_city\" :inferred_city,\n",
    "                        'inferred_state' : inferred_state,\n",
    "                        'inferred_country' : inferred_country,\n",
    "                        'post_date' :post_date,\n",
    "                        'job_description':job_description,\n",
    "                        \"job_type\":job_type,\n",
    "                        \"job_board\" : job_board,\n",
    "                        \"uniq_id\" :uniq_id\n",
    "                        })\n",
    "jobs_df.to_csv(\"JobsPikr_API_outputjobs.csv\",index = False)\n",
    "jobs_df.count()"
   ]
  },
  {
   "cell_type": "code",
   "execution_count": 4,
   "metadata": {},
   "outputs": [
    {
     "data": {
      "text/plain": [
       "job_title           31\n",
       "category            31\n",
       "company_name        31\n",
       "inferred_city       31\n",
       "inferred_state      31\n",
       "inferred_country    31\n",
       "post_date           31\n",
       "job_description     31\n",
       "job_type            31\n",
       "job_board           31\n",
       "uniq_id             31\n",
       "dtype: int64"
      ]
     },
     "execution_count": 4,
     "metadata": {},
     "output_type": "execute_result"
    }
   ],
   "source": [
    "jobs_df_us = jobs_df.loc[jobs_df[\"inferred_country\"] == \"United states\"]\n",
    "jobs_df_us.count()"
   ]
  },
  {
   "cell_type": "code",
   "execution_count": 5,
   "metadata": {},
   "outputs": [
    {
     "data": {
      "text/html": [
       "<div>\n",
       "<style scoped>\n",
       "    .dataframe tbody tr th:only-of-type {\n",
       "        vertical-align: middle;\n",
       "    }\n",
       "\n",
       "    .dataframe tbody tr th {\n",
       "        vertical-align: top;\n",
       "    }\n",
       "\n",
       "    .dataframe thead th {\n",
       "        text-align: right;\n",
       "    }\n",
       "</style>\n",
       "<table border=\"1\" class=\"dataframe\">\n",
       "  <thead>\n",
       "    <tr style=\"text-align: right;\">\n",
       "      <th></th>\n",
       "      <th>crawl_timestamp</th>\n",
       "      <th>url</th>\n",
       "      <th>job_title_x</th>\n",
       "      <th>category_x</th>\n",
       "      <th>company_name_x</th>\n",
       "      <th>city</th>\n",
       "      <th>state</th>\n",
       "      <th>country</th>\n",
       "      <th>inferred_city_x</th>\n",
       "      <th>inferred_state_x</th>\n",
       "      <th>...</th>\n",
       "      <th>job_title_y</th>\n",
       "      <th>category_y</th>\n",
       "      <th>company_name_y</th>\n",
       "      <th>inferred_city_y</th>\n",
       "      <th>inferred_state_y</th>\n",
       "      <th>inferred_country_y</th>\n",
       "      <th>post_date_y</th>\n",
       "      <th>job_description_y</th>\n",
       "      <th>job_type_y</th>\n",
       "      <th>job_board_y</th>\n",
       "    </tr>\n",
       "  </thead>\n",
       "  <tbody>\n",
       "    <tr>\n",
       "      <td>0</td>\n",
       "      <td>2019-02-06 05:26:22 +0000</td>\n",
       "      <td>https://www.indeed.com/viewjob?jk=fd83355c2b23...</td>\n",
       "      <td>Enterprise Data Scientist I</td>\n",
       "      <td>Accounting/Finance</td>\n",
       "      <td>Farmers Insurance Group</td>\n",
       "      <td>Woodland Hills</td>\n",
       "      <td>CA</td>\n",
       "      <td>Usa</td>\n",
       "      <td>Woodland hills</td>\n",
       "      <td>California</td>\n",
       "      <td>...</td>\n",
       "      <td>NaN</td>\n",
       "      <td>NaN</td>\n",
       "      <td>NaN</td>\n",
       "      <td>NaN</td>\n",
       "      <td>NaN</td>\n",
       "      <td>NaN</td>\n",
       "      <td>NaN</td>\n",
       "      <td>NaN</td>\n",
       "      <td>NaN</td>\n",
       "      <td>NaN</td>\n",
       "    </tr>\n",
       "    <tr>\n",
       "      <td>1</td>\n",
       "      <td>2019-02-06 05:33:41 +0000</td>\n",
       "      <td>https://www.dice.com/jobs/detail/Data-Scientis...</td>\n",
       "      <td>Data Scientist</td>\n",
       "      <td>NaN</td>\n",
       "      <td>Luxoft USA Inc</td>\n",
       "      <td>Middletown</td>\n",
       "      <td>NJ</td>\n",
       "      <td>Usa</td>\n",
       "      <td>Middletown</td>\n",
       "      <td>New jersey</td>\n",
       "      <td>...</td>\n",
       "      <td>NaN</td>\n",
       "      <td>NaN</td>\n",
       "      <td>NaN</td>\n",
       "      <td>NaN</td>\n",
       "      <td>NaN</td>\n",
       "      <td>NaN</td>\n",
       "      <td>NaN</td>\n",
       "      <td>NaN</td>\n",
       "      <td>NaN</td>\n",
       "      <td>NaN</td>\n",
       "    </tr>\n",
       "    <tr>\n",
       "      <td>2</td>\n",
       "      <td>2019-02-06 05:33:35 +0000</td>\n",
       "      <td>https://www.dice.com/jobs/detail/Data-Scientis...</td>\n",
       "      <td>Data Scientist</td>\n",
       "      <td>NaN</td>\n",
       "      <td>Cincinnati Bell Technology Solutions</td>\n",
       "      <td>New York</td>\n",
       "      <td>NY</td>\n",
       "      <td>Usa</td>\n",
       "      <td>New york</td>\n",
       "      <td>New york</td>\n",
       "      <td>...</td>\n",
       "      <td>NaN</td>\n",
       "      <td>NaN</td>\n",
       "      <td>NaN</td>\n",
       "      <td>NaN</td>\n",
       "      <td>NaN</td>\n",
       "      <td>NaN</td>\n",
       "      <td>NaN</td>\n",
       "      <td>NaN</td>\n",
       "      <td>NaN</td>\n",
       "      <td>NaN</td>\n",
       "    </tr>\n",
       "    <tr>\n",
       "      <td>3</td>\n",
       "      <td>2019-02-06 05:33:42 +0000</td>\n",
       "      <td>https://www.indeed.com/viewjob?jk=841edd86ead2...</td>\n",
       "      <td>Data Scientist, Aladdin Wealth Tech, Associate...</td>\n",
       "      <td>Accounting/Finance</td>\n",
       "      <td>BlackRock</td>\n",
       "      <td>New York</td>\n",
       "      <td>NY 10055 (Midtown area)</td>\n",
       "      <td>Usa</td>\n",
       "      <td>New york</td>\n",
       "      <td>New york</td>\n",
       "      <td>...</td>\n",
       "      <td>NaN</td>\n",
       "      <td>NaN</td>\n",
       "      <td>NaN</td>\n",
       "      <td>NaN</td>\n",
       "      <td>NaN</td>\n",
       "      <td>NaN</td>\n",
       "      <td>NaN</td>\n",
       "      <td>NaN</td>\n",
       "      <td>NaN</td>\n",
       "      <td>NaN</td>\n",
       "    </tr>\n",
       "    <tr>\n",
       "      <td>4</td>\n",
       "      <td>2019-02-06 05:48:23 +0000</td>\n",
       "      <td>https://job-openings.monster.com/senior-data-s...</td>\n",
       "      <td>Senior Data Scientist</td>\n",
       "      <td>biotech</td>\n",
       "      <td>CyberCoders</td>\n",
       "      <td>Charlotte</td>\n",
       "      <td>NC</td>\n",
       "      <td>Usa</td>\n",
       "      <td>Charlotte</td>\n",
       "      <td>North carolina</td>\n",
       "      <td>...</td>\n",
       "      <td>NaN</td>\n",
       "      <td>NaN</td>\n",
       "      <td>NaN</td>\n",
       "      <td>NaN</td>\n",
       "      <td>NaN</td>\n",
       "      <td>NaN</td>\n",
       "      <td>NaN</td>\n",
       "      <td>NaN</td>\n",
       "      <td>NaN</td>\n",
       "      <td>NaN</td>\n",
       "    </tr>\n",
       "  </tbody>\n",
       "</table>\n",
       "<p>5 rows × 32 columns</p>\n",
       "</div>"
      ],
      "text/plain": [
       "             crawl_timestamp  \\\n",
       "0  2019-02-06 05:26:22 +0000   \n",
       "1  2019-02-06 05:33:41 +0000   \n",
       "2  2019-02-06 05:33:35 +0000   \n",
       "3  2019-02-06 05:33:42 +0000   \n",
       "4  2019-02-06 05:48:23 +0000   \n",
       "\n",
       "                                                 url  \\\n",
       "0  https://www.indeed.com/viewjob?jk=fd83355c2b23...   \n",
       "1  https://www.dice.com/jobs/detail/Data-Scientis...   \n",
       "2  https://www.dice.com/jobs/detail/Data-Scientis...   \n",
       "3  https://www.indeed.com/viewjob?jk=841edd86ead2...   \n",
       "4  https://job-openings.monster.com/senior-data-s...   \n",
       "\n",
       "                                         job_title_x          category_x  \\\n",
       "0                        Enterprise Data Scientist I  Accounting/Finance   \n",
       "1                                     Data Scientist                 NaN   \n",
       "2                                     Data Scientist                 NaN   \n",
       "3  Data Scientist, Aladdin Wealth Tech, Associate...  Accounting/Finance   \n",
       "4                              Senior Data Scientist             biotech   \n",
       "\n",
       "                         company_name_x            city  \\\n",
       "0               Farmers Insurance Group  Woodland Hills   \n",
       "1                        Luxoft USA Inc      Middletown   \n",
       "2  Cincinnati Bell Technology Solutions        New York   \n",
       "3                             BlackRock        New York   \n",
       "4                           CyberCoders       Charlotte   \n",
       "\n",
       "                     state country inferred_city_x inferred_state_x  ...  \\\n",
       "0                       CA     Usa  Woodland hills       California  ...   \n",
       "1                       NJ     Usa      Middletown       New jersey  ...   \n",
       "2                       NY     Usa        New york         New york  ...   \n",
       "3  NY 10055 (Midtown area)     Usa        New york         New york  ...   \n",
       "4                       NC     Usa       Charlotte   North carolina  ...   \n",
       "\n",
       "  job_title_y category_y company_name_y inferred_city_y inferred_state_y  \\\n",
       "0         NaN        NaN            NaN             NaN              NaN   \n",
       "1         NaN        NaN            NaN             NaN              NaN   \n",
       "2         NaN        NaN            NaN             NaN              NaN   \n",
       "3         NaN        NaN            NaN             NaN              NaN   \n",
       "4         NaN        NaN            NaN             NaN              NaN   \n",
       "\n",
       "  inferred_country_y post_date_y  job_description_y  job_type_y job_board_y  \n",
       "0                NaN         NaN                NaN         NaN         NaN  \n",
       "1                NaN         NaN                NaN         NaN         NaN  \n",
       "2                NaN         NaN                NaN         NaN         NaN  \n",
       "3                NaN         NaN                NaN         NaN         NaN  \n",
       "4                NaN         NaN                NaN         NaN         NaN  \n",
       "\n",
       "[5 rows x 32 columns]"
      ]
     },
     "execution_count": 5,
     "metadata": {},
     "output_type": "execute_result"
    }
   ],
   "source": [
    "Kaggle_data = \"../Resource/data_scientist_united_states_job_postings_jobspikr.csv\"\n",
    "Kaggle_data = pd.read_csv(Kaggle_data)\n",
    "\n",
    "# Combine the data into a single dataset\n",
    "combined_results_df = pd.merge(Kaggle_data,jobs_df_us,on=\"uniq_id\",how= \"outer\")\n",
    "\n",
    "combined_results_df.to_csv(\"combined_outputjobs.csv\",index = False)\n",
    "combined_results_df.head()   "
   ]
  },
  {
   "cell_type": "code",
   "execution_count": 6,
   "metadata": {},
   "outputs": [],
   "source": [
    "combined_results_df[\"job_title_x\"] = combined_results_df[\"job_title_x\"].fillna(combined_results_df[\"job_title_y\"])\n",
    "combined_results_df[\"category_x\"] = combined_results_df[\"category_x\"].fillna(combined_results_df[\"category_y\"])\n",
    "combined_results_df[\"company_name_x\"] = combined_results_df[\"company_name_x\"].fillna(combined_results_df[\"company_name_y\"])\n",
    "combined_results_df[\"inferred_city_x\"] = combined_results_df[\"inferred_city_x\"].fillna(combined_results_df[\"inferred_city_y\"])\n",
    "combined_results_df[\"inferred_state_x\"] = combined_results_df[\"inferred_state_x\"].fillna(combined_results_df[\"inferred_state_y\"])\n",
    "combined_results_df[\"inferred_country_x\"] = combined_results_df[\"inferred_country_x\"].fillna(combined_results_df[\"inferred_country_y\"])\n",
    "combined_results_df[\"post_date_x\"] = combined_results_df[\"post_date_x\"].fillna(combined_results_df[\"post_date_y\"])\n",
    "combined_results_df[\"job_description_x\"] = combined_results_df[\"job_description_x\"].fillna(combined_results_df[\"job_description_y\"])\n",
    "combined_results_df[\"job_type_x\"] = combined_results_df[\"job_type_x\"].fillna(combined_results_df[\"job_type_y\"])\n",
    "combined_results_df[\"job_board_x\"] = combined_results_df[\"job_board_x\"].fillna(combined_results_df[\"job_board_y\"])\n",
    "\n"
   ]
  },
  {
   "cell_type": "code",
   "execution_count": 7,
   "metadata": {},
   "outputs": [
    {
     "data": {
      "text/html": [
       "<div>\n",
       "<style scoped>\n",
       "    .dataframe tbody tr th:only-of-type {\n",
       "        vertical-align: middle;\n",
       "    }\n",
       "\n",
       "    .dataframe tbody tr th {\n",
       "        vertical-align: top;\n",
       "    }\n",
       "\n",
       "    .dataframe thead th {\n",
       "        text-align: right;\n",
       "    }\n",
       "</style>\n",
       "<table border=\"1\" class=\"dataframe\">\n",
       "  <thead>\n",
       "    <tr style=\"text-align: right;\">\n",
       "      <th></th>\n",
       "      <th>job_title</th>\n",
       "      <th>category</th>\n",
       "      <th>company_name</th>\n",
       "      <th>inferred_city</th>\n",
       "      <th>inferred_state</th>\n",
       "      <th>inferred_country</th>\n",
       "      <th>post_date</th>\n",
       "      <th>job_type</th>\n",
       "      <th>job_board</th>\n",
       "      <th>uniq_id</th>\n",
       "    </tr>\n",
       "  </thead>\n",
       "  <tbody>\n",
       "    <tr>\n",
       "      <td>0</td>\n",
       "      <td>Enterprise Data Scientist I</td>\n",
       "      <td>Accounting/Finance</td>\n",
       "      <td>Farmers Insurance Group</td>\n",
       "      <td>Woodland hills</td>\n",
       "      <td>California</td>\n",
       "      <td>Usa</td>\n",
       "      <td>2019-02-06</td>\n",
       "      <td>Undefined</td>\n",
       "      <td>indeed</td>\n",
       "      <td>3b6c6acfcba6135a31c83bd7ea493b18</td>\n",
       "    </tr>\n",
       "    <tr>\n",
       "      <td>1</td>\n",
       "      <td>Data Scientist</td>\n",
       "      <td>NaN</td>\n",
       "      <td>Luxoft USA Inc</td>\n",
       "      <td>Middletown</td>\n",
       "      <td>New jersey</td>\n",
       "      <td>Usa</td>\n",
       "      <td>2019-02-05</td>\n",
       "      <td>Undefined</td>\n",
       "      <td>dice</td>\n",
       "      <td>741727428839ae7ada852eebef29b0fe</td>\n",
       "    </tr>\n",
       "    <tr>\n",
       "      <td>2</td>\n",
       "      <td>Data Scientist</td>\n",
       "      <td>NaN</td>\n",
       "      <td>Cincinnati Bell Technology Solutions</td>\n",
       "      <td>New york</td>\n",
       "      <td>New york</td>\n",
       "      <td>Usa</td>\n",
       "      <td>2019-02-05</td>\n",
       "      <td>Full Time</td>\n",
       "      <td>dice</td>\n",
       "      <td>cdc9ef9a1de327ccdc19cc0d07dbbb37</td>\n",
       "    </tr>\n",
       "    <tr>\n",
       "      <td>3</td>\n",
       "      <td>Data Scientist, Aladdin Wealth Tech, Associate...</td>\n",
       "      <td>Accounting/Finance</td>\n",
       "      <td>BlackRock</td>\n",
       "      <td>New york</td>\n",
       "      <td>New york</td>\n",
       "      <td>Usa</td>\n",
       "      <td>2019-02-06</td>\n",
       "      <td>Undefined</td>\n",
       "      <td>indeed</td>\n",
       "      <td>1c8541cd2c2c924f9391c7d3f526f64e</td>\n",
       "    </tr>\n",
       "    <tr>\n",
       "      <td>4</td>\n",
       "      <td>Senior Data Scientist</td>\n",
       "      <td>biotech</td>\n",
       "      <td>CyberCoders</td>\n",
       "      <td>Charlotte</td>\n",
       "      <td>North carolina</td>\n",
       "      <td>Usa</td>\n",
       "      <td>2019-02-05</td>\n",
       "      <td>Full Time</td>\n",
       "      <td>monster</td>\n",
       "      <td>445652a560a5441060857853cf267470</td>\n",
       "    </tr>\n",
       "  </tbody>\n",
       "</table>\n",
       "</div>"
      ],
      "text/plain": [
       "                                           job_title            category  \\\n",
       "0                        Enterprise Data Scientist I  Accounting/Finance   \n",
       "1                                     Data Scientist                 NaN   \n",
       "2                                     Data Scientist                 NaN   \n",
       "3  Data Scientist, Aladdin Wealth Tech, Associate...  Accounting/Finance   \n",
       "4                              Senior Data Scientist             biotech   \n",
       "\n",
       "                           company_name   inferred_city  inferred_state  \\\n",
       "0               Farmers Insurance Group  Woodland hills      California   \n",
       "1                        Luxoft USA Inc      Middletown      New jersey   \n",
       "2  Cincinnati Bell Technology Solutions        New york        New york   \n",
       "3                             BlackRock        New york        New york   \n",
       "4                           CyberCoders       Charlotte  North carolina   \n",
       "\n",
       "  inferred_country   post_date   job_type job_board  \\\n",
       "0              Usa  2019-02-06  Undefined    indeed   \n",
       "1              Usa  2019-02-05  Undefined      dice   \n",
       "2              Usa  2019-02-05  Full Time      dice   \n",
       "3              Usa  2019-02-06  Undefined    indeed   \n",
       "4              Usa  2019-02-05  Full Time   monster   \n",
       "\n",
       "                            uniq_id  \n",
       "0  3b6c6acfcba6135a31c83bd7ea493b18  \n",
       "1  741727428839ae7ada852eebef29b0fe  \n",
       "2  cdc9ef9a1de327ccdc19cc0d07dbbb37  \n",
       "3  1c8541cd2c2c924f9391c7d3f526f64e  \n",
       "4  445652a560a5441060857853cf267470  "
      ]
     },
     "execution_count": 7,
     "metadata": {},
     "output_type": "execute_result"
    }
   ],
   "source": [
    "\n",
    "combined_results_df = combined_results_df[[\"job_title_x\",\"category_x\",\"company_name_x\",\"inferred_city_x\",\n",
    "                                                   \"inferred_state_x\",\"inferred_country_x\",\n",
    "                                                   \"post_date_x\",\"job_type_x\",\n",
    "                                                   \"job_board_x\",\"uniq_id\"]]\n",
    "\n",
    "combined_results_df.rename(columns={\"job_title_x\": \"job_title\", \"category_x\": \"category\", \n",
    "                                    \"company_name_x\": \"company_name\",\n",
    "                                    \"inferred_city_x\":\"inferred_city\",\n",
    "                                    \"inferred_state_x\":\"inferred_state\",\n",
    "                                    \"inferred_country_x\":\"inferred_country\",\n",
    "                                    \"post_date_x\":\"post_date\",\n",
    "                                    \"job_type_x\":\"job_type\",\n",
    "                                    \"job_board_x\":\"job_board\"}, inplace = True)\n",
    "\n",
    "combined_results_df.head()"
   ]
  },
  {
   "cell_type": "code",
   "execution_count": 8,
   "metadata": {},
   "outputs": [
    {
     "data": {
      "text/plain": [
       "Data Scientist                                                              2890\n",
       "Senior Data Scientist                                                        644\n",
       "Sr. Data Scientist                                                           203\n",
       "Lead Data Scientist                                                          179\n",
       "Principal Data Scientist                                                     148\n",
       "                                                                            ... \n",
       "Associate Data Scientist/Data Scientist                                        1\n",
       "Data Scientist- Psychometrician                                                1\n",
       "AI Implementation Leader - APaaS - Lead Data Scientist in Louisville, KY       1\n",
       "Data Scientist / Business Analytics and Optimization Consultant                1\n",
       "Data Scientist - Global People Analytics                                       1\n",
       "Name: job_title, Length: 2764, dtype: int64"
      ]
     },
     "execution_count": 8,
     "metadata": {},
     "output_type": "execute_result"
    }
   ],
   "source": [
    "combined_results_df[\"job_title\"].value_counts()"
   ]
  },
  {
   "cell_type": "code",
   "execution_count": 9,
   "metadata": {},
   "outputs": [
    {
     "name": "stdout",
     "output_type": "stream",
     "text": [
      "Data Scientist              7302\n",
      "Senior Data Scientist       1988\n",
      "Principal Data Scientist     382\n",
      "Unknown                      220\n",
      "Junior Data Scientist        112\n",
      "Data Engineer                  7\n",
      "Senior Data Engineer           2\n",
      "Name: Job_title_final, dtype: int64\n"
     ]
    }
   ],
   "source": [
    "###### This set of code needs to be finalized on the \"combined_results_df\" DataFrame and for all different job titles.\n",
    "\n",
    "combined_results_df[\"job_title\"] = combined_results_df[\"job_title\"].fillna(\"unknown\")\n",
    "\n",
    "combined_results_df[\"Job_title_final\"] = ''\n",
    "\n",
    "for index,row in combined_results_df.iterrows():\n",
    "    if \"Data Scientist\" in row[\"job_title\"]:\n",
    "        x=row[\"job_title\"]\n",
    "        if \"Sr.\" in x:\n",
    "            row[\"Job_title_final\"] = \"Senior Data Scientist\"\n",
    "        elif \"Senior\" in x:\n",
    "            row[\"Job_title_final\"] = \"Senior Data Scientist\"\n",
    "        elif \"Principal\" in x:\n",
    "            row[\"Job_title_final\"] = \"Principal Data Scientist\"\n",
    "        elif \"Junior\" in x:\n",
    "            row[\"Job_title_final\"] = \"Junior Data Scientist\"\n",
    "        else:\n",
    "            row[\"Job_title_final\"] = \"Data Scientist\"\n",
    "    elif \"Data Engineer\" in row[\"job_title\"]:\n",
    "        x=row[\"job_title\"]\n",
    "        if \"Sr.\" in x:\n",
    "            row[\"Job_title_final\"] = \"Senior Data Engineer\"\n",
    "        elif \"Senior\" in x:\n",
    "            row[\"Job_title_final\"] = \"Senior Data Engineer\"\n",
    "        elif \"Junior\" in x:\n",
    "            row[\"Job_title_final\"] = \"Junior Data Engineer\"\n",
    "        else:\n",
    "            row[\"Job_title_final\"] = \"Data Engineer\"\n",
    "    elif \"Data Analyst\" in row[\"job_title\"]:\n",
    "        x=row[\"job_title\"]\n",
    "        if \"Sr.\" in x:\n",
    "            row[\"Job_title_final\"] = \"Senior Data Analyst\"\n",
    "        elif \"Senior\" in x:\n",
    "            row[\"Job_title_final\"] = \"Senior Data Analyst\"\n",
    "        else:\n",
    "            row[\"Job_title_final\"] = \"Data Analyst\"\n",
    "    else:\n",
    "            row[\"Job_title_final\"] = \"Unknown\"\n",
    "            \n",
    "print(combined_results_df[\"Job_title_final\"].value_counts())"
   ]
  },
  {
   "cell_type": "code",
   "execution_count": 10,
   "metadata": {
    "scrolled": true
   },
   "outputs": [
    {
     "data": {
      "text/plain": [
       "([0, 1, 2, 3], <a list of 4 Text xticklabel objects>)"
      ]
     },
     "execution_count": 10,
     "metadata": {},
     "output_type": "execute_result"
    },
    {
     "data": {
      "image/png": "[encoded data removed]",
      "text/plain": [
       "<Figure size 720x720 with 1 Axes>"
      ]
     },
     "metadata": {
      "needs_background": "light"
     },
     "output_type": "display_data"
    }
   ],
   "source": [
    "combined_results_df = combined_results_df[~combined_results_df.Job_title_final.str.contains(\"Unknown\")]\n",
    "combined_results_df = combined_results_df[~combined_results_df.Job_title_final.str.contains(\"Senior Data Engineer\")]\n",
    "combined_results_df = combined_results_df[~combined_results_df.Job_title_final.str.contains(\"Data Engineer\")]\n",
    "val_counts = combined_results_df[\"Job_title_final\"].value_counts()\n",
    "\n",
    "plt.figure(figsize = (10,10))\n",
    "plt.bar(val_counts.index.values, val_counts.values)\n",
    "\n",
    "plt.title(\"Job Titles Sought in DS\")\n",
    "plt.xlabel(\"Job Title\")\n",
    "plt.ylabel('Amount of Jobs')\n",
    "plt.xticks(rotation=45)"
   ]
  },
  {
   "cell_type": "code",
   "execution_count": 11,
   "metadata": {},
   "outputs": [
    {
     "data": {
      "text/plain": [
       "Undefined     5978\n",
       "Full Time     3322\n",
       "Contract       476\n",
       "Part Time        6\n",
       "Internship       2\n",
       "Name: job_type, dtype: int64"
      ]
     },
     "execution_count": 11,
     "metadata": {},
     "output_type": "execute_result"
    }
   ],
   "source": [
    "combined_results_df[\"job_type\"].value_counts()"
   ]
  },
  {
   "cell_type": "code",
   "execution_count": 12,
   "metadata": {},
   "outputs": [
    {
     "data": {
      "text/plain": [
       "Text(0.5, 1.0, 'Job Roles Sought in DS')"
      ]
     },
     "execution_count": 12,
     "metadata": {},
     "output_type": "execute_result"
    },
    {
     "data": {
      "image/png": "[encoded data removed]",
      "text/plain": [
       "<Figure size 720x720 with 1 Axes>"
      ]
     },
     "metadata": {},
     "output_type": "display_data"
    }
   ],
   "source": [
    "combined_results_df = combined_results_df[~combined_results_df.job_type.str.contains(\"Undefined\")]\n",
    "combined_results_df = combined_results_df[~combined_results_df.job_type.str.contains(\"Part Time\")]\n",
    "combined_results_df = combined_results_df[~combined_results_df.job_type.str.contains(\"Internship\")]\n",
    "role_val_counts = combined_results_df[\"job_type\"].value_counts()\n",
    "\n",
    "plt.figure(figsize = (10,10))\n",
    "plt.pie(role_val_counts.values, labels = role_val_counts.index.values, autopct=\"%1.1f%%\", textprops = {'fontsize': 20})\n",
    "\n",
    "plt.title(\"Job Roles Sought in DS\")"
   ]
  },
  {
   "cell_type": "code",
   "execution_count": 13,
   "metadata": {},
   "outputs": [
    {
     "data": {
      "text/plain": [
       "2019Q3    1993\n",
       "2019Q2    1066\n",
       "2019Q1     737\n",
       "2018Q4       1\n",
       "2018Q3       1\n",
       "Freq: Q-DEC, Name: Qtr, dtype: int64"
      ]
     },
     "execution_count": 13,
     "metadata": {},
     "output_type": "execute_result"
    }
   ],
   "source": [
    "combined_results_df['Qtr'] = pd.to_datetime(combined_results_df['post_date'].values, format='%Y-%m').astype('period[Q]')\n",
    "combined_results_df.head()\n",
    "\n",
    "combined_results_df['Qtr'].value_counts()"
   ]
  },
  {
   "cell_type": "code",
   "execution_count": 14,
   "metadata": {
    "scrolled": false
   },
   "outputs": [
    {
     "data": {
      "text/plain": [
       "Text(0.5, 1.0, 'Number of Jobs Posted in 2019')"
      ]
     },
     "execution_count": 14,
     "metadata": {},
     "output_type": "execute_result"
    },
    {
     "data": {
      "image/png": "[encoded data removed]",
      "text/plain": [
       "<Figure size 720x720 with 1 Axes>"
      ]
     },
     "metadata": {
      "needs_background": "light"
     },
     "output_type": "display_data"
    }
   ],
   "source": [
    "combined_results_df[\"Qtr\"] = combined_results_df[\"Qtr\"].astype(str)\n",
    "combined_results_df = combined_results_df[~combined_results_df[\"Qtr\"].str.contains(\"2018\")]\n",
    "qtr_val_counts = combined_results_df[\"Qtr\"].value_counts()\n",
    "\n",
    "x = qtr_val_counts.index\n",
    "y = qtr_val_counts.values\n",
    "\n",
    "x, y = zip(*sorted(zip(x, y)))\n",
    "\n",
    "plt.figure(figsize = (10,10))\n",
    "plt.plot(x, y)\n",
    "\n",
    "plt.title(\"Number of Jobs Posted in 2019\")"
   ]
  }
 ],
 "metadata": {
  "kernelspec": {
   "display_name": "Python 3",
   "language": "python",
   "name": "python3"
  },
  "language_info": {
   "codemirror_mode": {
    "name": "ipython",
    "version": 3
   },
   "file_extension": ".py",
   "mimetype": "text/x-python",
   "name": "python",
   "nbconvert_exporter": "python",
   "pygments_lexer": "ipython3",
   "version": "3.7.4"
  }
 },
 "nbformat": 4,
 "nbformat_minor": 2
}
