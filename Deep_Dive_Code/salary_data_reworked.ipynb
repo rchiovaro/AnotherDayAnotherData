{
 "cells": [
  {
   "cell_type": "code",
   "execution_count": 1,
   "metadata": {},
   "outputs": [],
   "source": [
    "import pandas as pd\n",
    "import numpy as np"
   ]
  },
  {
   "cell_type": "code",
   "execution_count": 2,
   "metadata": {},
   "outputs": [],
   "source": [
    "file_salary = \"../Resource/indeed_job_dataset.csv\""
   ]
  },
  {
   "cell_type": "code",
   "execution_count": 3,
   "metadata": {},
   "outputs": [
    {
     "data": {
      "text/html": [
       "<div>\n",
       "<style scoped>\n",
       "    .dataframe tbody tr th:only-of-type {\n",
       "        vertical-align: middle;\n",
       "    }\n",
       "\n",
       "    .dataframe tbody tr th {\n",
       "        vertical-align: top;\n",
       "    }\n",
       "\n",
       "    .dataframe thead th {\n",
       "        text-align: right;\n",
       "    }\n",
       "</style>\n",
       "<table border=\"1\" class=\"dataframe\">\n",
       "  <thead>\n",
       "    <tr style=\"text-align: right;\">\n",
       "      <th></th>\n",
       "      <th>Unnamed: 0</th>\n",
       "      <th>Job_Title</th>\n",
       "      <th>Link</th>\n",
       "      <th>Queried_Salary</th>\n",
       "      <th>Job_Type</th>\n",
       "      <th>Skill</th>\n",
       "      <th>No_of_Skills</th>\n",
       "      <th>Company</th>\n",
       "      <th>No_of_Reviews</th>\n",
       "      <th>No_of_Stars</th>\n",
       "      <th>Date_Since_Posted</th>\n",
       "      <th>Description</th>\n",
       "      <th>Location</th>\n",
       "      <th>Company_Revenue</th>\n",
       "      <th>Company_Employees</th>\n",
       "      <th>Company_Industry</th>\n",
       "    </tr>\n",
       "  </thead>\n",
       "  <tbody>\n",
       "    <tr>\n",
       "      <td>0</td>\n",
       "      <td>0</td>\n",
       "      <td>Data Scientist</td>\n",
       "      <td>https://www.indeed.com/rc/clk?jk=6a105f495c36a...</td>\n",
       "      <td>&lt;80000</td>\n",
       "      <td>data_scientist</td>\n",
       "      <td>['SAP', 'SQL']</td>\n",
       "      <td>2</td>\n",
       "      <td>Express Scripts</td>\n",
       "      <td>3301.0</td>\n",
       "      <td>3.3</td>\n",
       "      <td>1.0</td>\n",
       "      <td>[&lt;p&gt;&lt;b&gt;POSITION SUMMARY&lt;/b&gt;&lt;/p&gt;, &lt;p&gt;\\r\\r\\nThe ...</td>\n",
       "      <td>MO</td>\n",
       "      <td>More than $10B (USD)</td>\n",
       "      <td>10,000+</td>\n",
       "      <td>Health Care</td>\n",
       "    </tr>\n",
       "    <tr>\n",
       "      <td>1</td>\n",
       "      <td>1</td>\n",
       "      <td>Data Scientist</td>\n",
       "      <td>https://www.indeed.com/rc/clk?jk=86afd561ea8c6...</td>\n",
       "      <td>&lt;80000</td>\n",
       "      <td>data_scientist</td>\n",
       "      <td>['Machine Learning', 'R', 'SAS', 'SQL', 'Python']</td>\n",
       "      <td>5</td>\n",
       "      <td>Money Mart Financial Services</td>\n",
       "      <td>NaN</td>\n",
       "      <td>NaN</td>\n",
       "      <td>15.0</td>\n",
       "      <td>[&lt;p&gt;&lt;b&gt;What do we need?&lt;/b&gt;&lt;/p&gt;, &lt;ul&gt;&lt;li&gt;\\r\\r\\...</td>\n",
       "      <td>TX</td>\n",
       "      <td>NaN</td>\n",
       "      <td>NaN</td>\n",
       "      <td>NaN</td>\n",
       "    </tr>\n",
       "    <tr>\n",
       "      <td>2</td>\n",
       "      <td>2</td>\n",
       "      <td>Data Scientist</td>\n",
       "      <td>https://www.indeed.com/rc/clk?jk=e0aad317e6d45...</td>\n",
       "      <td>&lt;80000</td>\n",
       "      <td>data_scientist</td>\n",
       "      <td>['Data Mining', 'Data Management', 'R', 'SAS',...</td>\n",
       "      <td>9</td>\n",
       "      <td>comScore</td>\n",
       "      <td>62.0</td>\n",
       "      <td>3.5</td>\n",
       "      <td>1.0</td>\n",
       "      <td>[&lt;ul&gt;&lt;li&gt;Validate, analyze, and conduct statis...</td>\n",
       "      <td>OR</td>\n",
       "      <td>NaN</td>\n",
       "      <td>NaN</td>\n",
       "      <td>NaN</td>\n",
       "    </tr>\n",
       "    <tr>\n",
       "      <td>3</td>\n",
       "      <td>3</td>\n",
       "      <td>Graduate Studies Program - Data Scientist</td>\n",
       "      <td>https://www.indeed.com/rc/clk?jk=1cfdd9e391a63...</td>\n",
       "      <td>&lt;80000</td>\n",
       "      <td>data_scientist</td>\n",
       "      <td>['Certified Internal Auditor']</td>\n",
       "      <td>1</td>\n",
       "      <td>Central Intelligence Agency</td>\n",
       "      <td>158.0</td>\n",
       "      <td>4.3</td>\n",
       "      <td>30.0</td>\n",
       "      <td>[&lt;p&gt;Full time&lt;/p&gt;, &lt;p&gt;Washington, DC metro are...</td>\n",
       "      <td>DC</td>\n",
       "      <td>NaN</td>\n",
       "      <td>NaN</td>\n",
       "      <td>Government</td>\n",
       "    </tr>\n",
       "    <tr>\n",
       "      <td>4</td>\n",
       "      <td>4</td>\n",
       "      <td>Data Scientist I</td>\n",
       "      <td>https://www.indeed.com/rc/clk?jk=fec647775a21e...</td>\n",
       "      <td>&lt;80000</td>\n",
       "      <td>data_scientist</td>\n",
       "      <td>['Statistical Software', 'Time Management', 'R...</td>\n",
       "      <td>7</td>\n",
       "      <td>Federal Reserve Bank of Dallas</td>\n",
       "      <td>495.0</td>\n",
       "      <td>4.1</td>\n",
       "      <td>30.0</td>\n",
       "      <td>[&lt;ul&gt;&lt;li&gt;Assist in consultations with business...</td>\n",
       "      <td>TX</td>\n",
       "      <td>NaN</td>\n",
       "      <td>Less than 10,000</td>\n",
       "      <td>Banks and Financial Services</td>\n",
       "    </tr>\n",
       "  </tbody>\n",
       "</table>\n",
       "</div>"
      ],
      "text/plain": [
       "   Unnamed: 0                                  Job_Title  \\\n",
       "0           0                             Data Scientist   \n",
       "1           1                             Data Scientist   \n",
       "2           2                             Data Scientist   \n",
       "3           3  Graduate Studies Program - Data Scientist   \n",
       "4           4                           Data Scientist I   \n",
       "\n",
       "                                                Link Queried_Salary  \\\n",
       "0  https://www.indeed.com/rc/clk?jk=6a105f495c36a...         <80000   \n",
       "1  https://www.indeed.com/rc/clk?jk=86afd561ea8c6...         <80000   \n",
       "2  https://www.indeed.com/rc/clk?jk=e0aad317e6d45...         <80000   \n",
       "3  https://www.indeed.com/rc/clk?jk=1cfdd9e391a63...         <80000   \n",
       "4  https://www.indeed.com/rc/clk?jk=fec647775a21e...         <80000   \n",
       "\n",
       "         Job_Type                                              Skill  \\\n",
       "0  data_scientist                                     ['SAP', 'SQL']   \n",
       "1  data_scientist  ['Machine Learning', 'R', 'SAS', 'SQL', 'Python']   \n",
       "2  data_scientist  ['Data Mining', 'Data Management', 'R', 'SAS',...   \n",
       "3  data_scientist                     ['Certified Internal Auditor']   \n",
       "4  data_scientist  ['Statistical Software', 'Time Management', 'R...   \n",
       "\n",
       "   No_of_Skills                         Company  No_of_Reviews  No_of_Stars  \\\n",
       "0             2                 Express Scripts         3301.0          3.3   \n",
       "1             5   Money Mart Financial Services            NaN          NaN   \n",
       "2             9                        comScore           62.0          3.5   \n",
       "3             1     Central Intelligence Agency          158.0          4.3   \n",
       "4             7  Federal Reserve Bank of Dallas          495.0          4.1   \n",
       "\n",
       "   Date_Since_Posted                                        Description  \\\n",
       "0                1.0  [<p><b>POSITION SUMMARY</b></p>, <p>\\r\\r\\nThe ...   \n",
       "1               15.0  [<p><b>What do we need?</b></p>, <ul><li>\\r\\r\\...   \n",
       "2                1.0  [<ul><li>Validate, analyze, and conduct statis...   \n",
       "3               30.0  [<p>Full time</p>, <p>Washington, DC metro are...   \n",
       "4               30.0  [<ul><li>Assist in consultations with business...   \n",
       "\n",
       "  Location       Company_Revenue Company_Employees  \\\n",
       "0       MO  More than $10B (USD)           10,000+   \n",
       "1       TX                   NaN               NaN   \n",
       "2       OR                   NaN               NaN   \n",
       "3       DC                   NaN               NaN   \n",
       "4       TX                   NaN  Less than 10,000   \n",
       "\n",
       "               Company_Industry  \n",
       "0                   Health Care  \n",
       "1                           NaN  \n",
       "2                           NaN  \n",
       "3                    Government  \n",
       "4  Banks and Financial Services  "
      ]
     },
     "execution_count": 3,
     "metadata": {},
     "output_type": "execute_result"
    }
   ],
   "source": [
    "salary_df = pd.read_csv(file_salary)\n",
    "salary_df.head()\n"
   ]
  },
  {
   "cell_type": "code",
   "execution_count": 4,
   "metadata": {},
   "outputs": [
    {
     "data": {
      "text/plain": [
       "Index(['Unnamed: 0', 'Job_Title', 'Link', 'Queried_Salary', 'Job_Type',\n",
       "       'Skill', 'No_of_Skills', 'Company', 'No_of_Reviews', 'No_of_Stars',\n",
       "       'Date_Since_Posted', 'Description', 'Location', 'Company_Revenue',\n",
       "       'Company_Employees', 'Company_Industry'],\n",
       "      dtype='object')"
      ]
     },
     "execution_count": 4,
     "metadata": {},
     "output_type": "execute_result"
    }
   ],
   "source": [
    "salary_df.columns"
   ]
  },
  {
   "cell_type": "code",
   "execution_count": 5,
   "metadata": {},
   "outputs": [
    {
     "data": {
      "text/html": [
       "<div>\n",
       "<style scoped>\n",
       "    .dataframe tbody tr th:only-of-type {\n",
       "        vertical-align: middle;\n",
       "    }\n",
       "\n",
       "    .dataframe tbody tr th {\n",
       "        vertical-align: top;\n",
       "    }\n",
       "\n",
       "    .dataframe thead th {\n",
       "        text-align: right;\n",
       "    }\n",
       "</style>\n",
       "<table border=\"1\" class=\"dataframe\">\n",
       "  <thead>\n",
       "    <tr style=\"text-align: right;\">\n",
       "      <th></th>\n",
       "      <th>Job_Title</th>\n",
       "      <th>Queried_Salary</th>\n",
       "      <th>Job_Type</th>\n",
       "      <th>Skill</th>\n",
       "      <th>Company</th>\n",
       "      <th>Location</th>\n",
       "      <th>Company_Industry</th>\n",
       "    </tr>\n",
       "  </thead>\n",
       "  <tbody>\n",
       "    <tr>\n",
       "      <td>0</td>\n",
       "      <td>Data Scientist</td>\n",
       "      <td>&lt;80000</td>\n",
       "      <td>data_scientist</td>\n",
       "      <td>['SAP', 'SQL']</td>\n",
       "      <td>Express Scripts</td>\n",
       "      <td>MO</td>\n",
       "      <td>Health Care</td>\n",
       "    </tr>\n",
       "    <tr>\n",
       "      <td>1</td>\n",
       "      <td>Data Scientist</td>\n",
       "      <td>&lt;80000</td>\n",
       "      <td>data_scientist</td>\n",
       "      <td>['Machine Learning', 'R', 'SAS', 'SQL', 'Python']</td>\n",
       "      <td>Money Mart Financial Services</td>\n",
       "      <td>TX</td>\n",
       "      <td>NaN</td>\n",
       "    </tr>\n",
       "    <tr>\n",
       "      <td>2</td>\n",
       "      <td>Data Scientist</td>\n",
       "      <td>&lt;80000</td>\n",
       "      <td>data_scientist</td>\n",
       "      <td>['Data Mining', 'Data Management', 'R', 'SAS',...</td>\n",
       "      <td>comScore</td>\n",
       "      <td>OR</td>\n",
       "      <td>NaN</td>\n",
       "    </tr>\n",
       "    <tr>\n",
       "      <td>3</td>\n",
       "      <td>Graduate Studies Program - Data Scientist</td>\n",
       "      <td>&lt;80000</td>\n",
       "      <td>data_scientist</td>\n",
       "      <td>['Certified Internal Auditor']</td>\n",
       "      <td>Central Intelligence Agency</td>\n",
       "      <td>DC</td>\n",
       "      <td>Government</td>\n",
       "    </tr>\n",
       "    <tr>\n",
       "      <td>4</td>\n",
       "      <td>Data Scientist I</td>\n",
       "      <td>&lt;80000</td>\n",
       "      <td>data_scientist</td>\n",
       "      <td>['Statistical Software', 'Time Management', 'R...</td>\n",
       "      <td>Federal Reserve Bank of Dallas</td>\n",
       "      <td>TX</td>\n",
       "      <td>Banks and Financial Services</td>\n",
       "    </tr>\n",
       "    <tr>\n",
       "      <td>...</td>\n",
       "      <td>...</td>\n",
       "      <td>...</td>\n",
       "      <td>...</td>\n",
       "      <td>...</td>\n",
       "      <td>...</td>\n",
       "      <td>...</td>\n",
       "      <td>...</td>\n",
       "    </tr>\n",
       "    <tr>\n",
       "      <td>5710</td>\n",
       "      <td>Senior Data Engineer</td>\n",
       "      <td>&gt;160000</td>\n",
       "      <td>data_engineer</td>\n",
       "      <td>['Hive', 'Hadoop', 'Oracle', 'SQL', 'HBase', '...</td>\n",
       "      <td>Intelliswift Software Inc</td>\n",
       "      <td>NaN</td>\n",
       "      <td>NaN</td>\n",
       "    </tr>\n",
       "    <tr>\n",
       "      <td>5711</td>\n",
       "      <td>Principal Data Engineer (Java, Spark, Storm, AWS)</td>\n",
       "      <td>&gt;160000</td>\n",
       "      <td>data_engineer</td>\n",
       "      <td>['Network', 'Scala', 'Kafka', 'Java', 'MongoDB...</td>\n",
       "      <td>Jobspring Partners</td>\n",
       "      <td>CA</td>\n",
       "      <td>Human Resources and Staffing</td>\n",
       "    </tr>\n",
       "    <tr>\n",
       "      <td>5712</td>\n",
       "      <td>Executive Director- Architect: Data Engineerin...</td>\n",
       "      <td>&gt;160000</td>\n",
       "      <td>data_engineer</td>\n",
       "      <td>['Spring', 'Data Management', 'Hadoop', 'Kafka...</td>\n",
       "      <td>JPMorgan Chase</td>\n",
       "      <td>DE</td>\n",
       "      <td>Banks and Financial Services</td>\n",
       "    </tr>\n",
       "    <tr>\n",
       "      <td>5713</td>\n",
       "      <td>Senior Manager, Data Engineering (hands on)</td>\n",
       "      <td>&gt;160000</td>\n",
       "      <td>data_engineer</td>\n",
       "      <td>['Spring', 'Ruby', 'Test Automation', 'Scripti...</td>\n",
       "      <td>Capital One</td>\n",
       "      <td>NY</td>\n",
       "      <td>Banks and Financial Services</td>\n",
       "    </tr>\n",
       "    <tr>\n",
       "      <td>5714</td>\n",
       "      <td>Principal Visual Analytics / Big Data Engineer...</td>\n",
       "      <td>&gt;160000</td>\n",
       "      <td>data_engineer</td>\n",
       "      <td>['JavaScript', 'TS/SCI Clearance', 'XML', 'Had...</td>\n",
       "      <td>SAIC</td>\n",
       "      <td>MD</td>\n",
       "      <td>Aerospace and Defense</td>\n",
       "    </tr>\n",
       "  </tbody>\n",
       "</table>\n",
       "<p>5715 rows × 7 columns</p>\n",
       "</div>"
      ],
      "text/plain": [
       "                                              Job_Title Queried_Salary  \\\n",
       "0                                        Data Scientist         <80000   \n",
       "1                                        Data Scientist         <80000   \n",
       "2                                        Data Scientist         <80000   \n",
       "3             Graduate Studies Program - Data Scientist         <80000   \n",
       "4                                      Data Scientist I         <80000   \n",
       "...                                                 ...            ...   \n",
       "5710                               Senior Data Engineer        >160000   \n",
       "5711  Principal Data Engineer (Java, Spark, Storm, AWS)        >160000   \n",
       "5712  Executive Director- Architect: Data Engineerin...        >160000   \n",
       "5713        Senior Manager, Data Engineering (hands on)        >160000   \n",
       "5714  Principal Visual Analytics / Big Data Engineer...        >160000   \n",
       "\n",
       "            Job_Type                                              Skill  \\\n",
       "0     data_scientist                                     ['SAP', 'SQL']   \n",
       "1     data_scientist  ['Machine Learning', 'R', 'SAS', 'SQL', 'Python']   \n",
       "2     data_scientist  ['Data Mining', 'Data Management', 'R', 'SAS',...   \n",
       "3     data_scientist                     ['Certified Internal Auditor']   \n",
       "4     data_scientist  ['Statistical Software', 'Time Management', 'R...   \n",
       "...              ...                                                ...   \n",
       "5710   data_engineer  ['Hive', 'Hadoop', 'Oracle', 'SQL', 'HBase', '...   \n",
       "5711   data_engineer  ['Network', 'Scala', 'Kafka', 'Java', 'MongoDB...   \n",
       "5712   data_engineer  ['Spring', 'Data Management', 'Hadoop', 'Kafka...   \n",
       "5713   data_engineer  ['Spring', 'Ruby', 'Test Automation', 'Scripti...   \n",
       "5714   data_engineer  ['JavaScript', 'TS/SCI Clearance', 'XML', 'Had...   \n",
       "\n",
       "                             Company Location              Company_Industry  \n",
       "0                    Express Scripts       MO                   Health Care  \n",
       "1      Money Mart Financial Services       TX                           NaN  \n",
       "2                           comScore       OR                           NaN  \n",
       "3        Central Intelligence Agency       DC                    Government  \n",
       "4     Federal Reserve Bank of Dallas       TX  Banks and Financial Services  \n",
       "...                              ...      ...                           ...  \n",
       "5710       Intelliswift Software Inc      NaN                           NaN  \n",
       "5711              Jobspring Partners       CA  Human Resources and Staffing  \n",
       "5712                  JPMorgan Chase       DE  Banks and Financial Services  \n",
       "5713                     Capital One       NY  Banks and Financial Services  \n",
       "5714                            SAIC       MD         Aerospace and Defense  \n",
       "\n",
       "[5715 rows x 7 columns]"
      ]
     },
     "execution_count": 5,
     "metadata": {},
     "output_type": "execute_result"
    }
   ],
   "source": [
    "salary_df = salary_df[['Job_Title','Queried_Salary','Job_Type','Skill','Company',\n",
    "                                  'Location','Company_Industry']]\n",
    "salary_df"
   ]
  },
  {
   "cell_type": "code",
   "execution_count": 6,
   "metadata": {},
   "outputs": [
    {
     "name": "stdout",
     "output_type": "stream",
     "text": [
      "<class 'pandas.core.frame.DataFrame'>\n",
      "RangeIndex: 5715 entries, 0 to 5714\n",
      "Data columns (total 7 columns):\n",
      "Job_Title           5715 non-null object\n",
      "Queried_Salary      5715 non-null object\n",
      "Job_Type            5715 non-null object\n",
      "Skill               5483 non-null object\n",
      "Company             5611 non-null object\n",
      "Location            5463 non-null object\n",
      "Company_Industry    3826 non-null object\n",
      "dtypes: object(7)\n",
      "memory usage: 312.7+ KB\n"
     ]
    }
   ],
   "source": [
    "salary_df.info()"
   ]
  },
  {
   "cell_type": "code",
   "execution_count": 7,
   "metadata": {},
   "outputs": [
    {
     "data": {
      "text/plain": [
       "Job_Title           5715\n",
       "Queried_Salary      5715\n",
       "Job_Type            5715\n",
       "Skill               5483\n",
       "Company             5611\n",
       "Location            5463\n",
       "Company_Industry    3826\n",
       "dtype: int64"
      ]
     },
     "execution_count": 7,
     "metadata": {},
     "output_type": "execute_result"
    }
   ],
   "source": [
    "salary_df.count()"
   ]
  },
  {
   "cell_type": "code",
   "execution_count": 8,
   "metadata": {},
   "outputs": [
    {
     "data": {
      "text/plain": [
       "232"
      ]
     },
     "execution_count": 8,
     "metadata": {},
     "output_type": "execute_result"
    }
   ],
   "source": [
    "salary_df['Skill'].isnull().sum()"
   ]
  },
  {
   "cell_type": "code",
   "execution_count": 9,
   "metadata": {},
   "outputs": [
    {
     "data": {
      "text/plain": [
       "252"
      ]
     },
     "execution_count": 9,
     "metadata": {},
     "output_type": "execute_result"
    }
   ],
   "source": [
    "salary_df['Location'].isnull().sum()"
   ]
  },
  {
   "cell_type": "code",
   "execution_count": 10,
   "metadata": {},
   "outputs": [
    {
     "data": {
      "text/plain": [
       "104"
      ]
     },
     "execution_count": 10,
     "metadata": {},
     "output_type": "execute_result"
    }
   ],
   "source": [
    "\n",
    "salary_df['Company'].isnull().sum()"
   ]
  },
  {
   "cell_type": "code",
   "execution_count": 11,
   "metadata": {},
   "outputs": [],
   "source": [
    "salary_df['Skill'].replace('', np.nan, inplace=True)\n",
    "salary_df['Company'].replace('', np.nan, inplace=True)\n",
    "salary_df['Location'].replace('', np.nan, inplace=True)"
   ]
  },
  {
   "cell_type": "code",
   "execution_count": 12,
   "metadata": {},
   "outputs": [],
   "source": [
    "salary_df.dropna(subset=['Skill','Location','Company'], inplace=True)"
   ]
  },
  {
   "cell_type": "code",
   "execution_count": 13,
   "metadata": {},
   "outputs": [
    {
     "data": {
      "text/plain": [
       "1499"
      ]
     },
     "execution_count": 13,
     "metadata": {},
     "output_type": "execute_result"
    }
   ],
   "source": [
    "salary_df['Company_Industry'].isnull().sum()"
   ]
  },
  {
   "cell_type": "code",
   "execution_count": 14,
   "metadata": {},
   "outputs": [],
   "source": [
    "salary_df['Company_Industry'].fillna('Missln', inplace=True)"
   ]
  },
  {
   "cell_type": "code",
   "execution_count": 15,
   "metadata": {},
   "outputs": [
    {
     "data": {
      "text/plain": [
       "Job_Title           5166\n",
       "Queried_Salary      5166\n",
       "Job_Type            5166\n",
       "Skill               5166\n",
       "Company             5166\n",
       "Location            5166\n",
       "Company_Industry    5166\n",
       "dtype: int64"
      ]
     },
     "execution_count": 15,
     "metadata": {},
     "output_type": "execute_result"
    }
   ],
   "source": [
    "salary_df.count()"
   ]
  },
  {
   "cell_type": "code",
   "execution_count": 16,
   "metadata": {},
   "outputs": [
    {
     "data": {
      "text/plain": [
       "Data Scientist                                                     696\n",
       "Data Analyst                                                       378\n",
       "Data Engineer                                                      289\n",
       "Senior Data Scientist                                              203\n",
       "Senior Data Engineer                                               109\n",
       "                                                                  ... \n",
       "HBO Sr. Data Scientist/Lead Data Scientist                           1\n",
       "Assistant Vice President, Data and Analytics, Strategy & Dis...      1\n",
       "Data Analyst, Customer Support Operations                            1\n",
       "General - NLP Scientist                                              1\n",
       "Sr. Data Scientist - Engine Data Analytics                           1\n",
       "Name: Job_Title, Length: 2149, dtype: int64"
      ]
     },
     "execution_count": 16,
     "metadata": {},
     "output_type": "execute_result"
    }
   ],
   "source": [
    "salary_df[\"Job_Title\"].value_counts()\n",
    "\n",
    "#,\"Location\",\"Location\",\"Company_Industry\""
   ]
  },
  {
   "cell_type": "code",
   "execution_count": 17,
   "metadata": {},
   "outputs": [
    {
     "data": {
      "text/plain": [
       "Missln                                                             1499\n",
       "Consulting and Business Services                                    708\n",
       "Internet and Software                                               620\n",
       "Banks and Financial Services                                        455\n",
       "Health Care                                                         304\n",
       "Insurance                                                           214\n",
       "Industrial Manufacturing                                            144\n",
       "Aerospace and Defense                                               127\n",
       "Retail                                                              119\n",
       "Education and Schools                                               108\n",
       "Computers and Electronics                                            99\n",
       "Consumer Goods and Services                                          97\n",
       "Media, News and Publishing                                           95\n",
       "Human Resources and Staffing                                         73\n",
       "Telecommunications                                                   71\n",
       "Government                                                           61\n",
       "Pharmaceuticals                                                      53\n",
       "Energy and Utilities                                                 45\n",
       "Restaurants, Travel and Leisure                                      42\n",
       "Auto                                                                 42\n",
       "Transport and Freight                                                42\n",
       "InsuranceHealth Care                                                 36\n",
       "Real Estate                                                          24\n",
       "Organization                                                         22\n",
       "Food and Beverages                                                   18\n",
       "Agriculture and Extraction                                           18\n",
       "Construction                                                         14\n",
       "RetailConsumer Goods and Services                                     6\n",
       "Restaurants, Travel and LeisureConsulting and Business Services       3\n",
       "Real EstateReal Estate                                                2\n",
       "Industrial ManufacturingConsumer Goods and Services                   2\n",
       "Food and BeveragesConsulting and Business Services                    1\n",
       "Industrial ManufacturingAgriculture and Extraction                    1\n",
       "Industrial ManufacturingConstruction                                  1\n",
       "Name: Company_Industry, dtype: int64"
      ]
     },
     "execution_count": 17,
     "metadata": {},
     "output_type": "execute_result"
    }
   ],
   "source": [
    "salary_df[\"Company_Industry\"].value_counts()"
   ]
  },
  {
   "cell_type": "code",
   "execution_count": 18,
   "metadata": {},
   "outputs": [
    {
     "data": {
      "text/plain": [
       "Missln                              1499\n",
       "Consulting and Business Services     708\n",
       "Internet and Software                620\n",
       "Banks and Financial Services         455\n",
       "Health Care                          304\n",
       "Insurance                            250\n",
       "Industrial Manufacturing             148\n",
       "Aerospace and Defense                127\n",
       "Retail                               119\n",
       "Education and Schools                108\n",
       "Consumer Goods and Services          103\n",
       "Computers and Electronics             99\n",
       "Media, News and Publishing            95\n",
       "Human Resources and Staffing          73\n",
       "Telecommunications                    71\n",
       "Government                            61\n",
       "Pharmaceuticals                       53\n",
       "Energy and Utilities                  45\n",
       "Restaurants, Travel and Leisure       45\n",
       "Auto                                  42\n",
       "Transport and Freight                 42\n",
       "Real Estate                           26\n",
       "Organization                          22\n",
       "Food and Beverages                    19\n",
       "Agriculture and Extraction            18\n",
       "Construction                          14\n",
       "Name: Company_Industry, dtype: int64"
      ]
     },
     "execution_count": 18,
     "metadata": {},
     "output_type": "execute_result"
    }
   ],
   "source": [
    "salary_df = salary_df.replace(\n",
    "    {\"Industrial ManufacturingAgriculture and Extraction\": \"Industrial Manufacturing\",\n",
    "     \"Industrial ManufacturingConstruction\": \"Industrial Manufacturing\",\n",
    "     \"Industrial ManufacturingConsumer Goods and Services\": \"Industrial Manufacturing\", \n",
    "     \"Real EstateReal Estate\": \"Real Estate\",\n",
    "     \"Restaurants, Travel and LeisureConsulting and Business Services\": \"Restaurants, Travel and Leisure\",\n",
    "     \"Food and BeveragesConsulting and Business Services\": \"Food and Beverages\",\n",
    "     \"RetailConsumer Goods and Services\": \"Consumer Goods and Services\",\"InsuranceHealth Care\": \"Insurance\",\n",
    "    \n",
    "    })\n",
    "salary_df[\"Company_Industry\"].value_counts()"
   ]
  },
  {
   "cell_type": "code",
   "execution_count": 19,
   "metadata": {},
   "outputs": [
    {
     "name": "stdout",
     "output_type": "stream",
     "text": [
      "3089\n",
      "3222\n",
      "2228\n",
      "2508\n",
      "1538\n",
      "1193\n",
      "278\n",
      "1046\n",
      "90\n",
      "278\n",
      "276\n",
      "169\n",
      "1458\n",
      "191\n"
     ]
    }
   ],
   "source": [
    "skills = ['Python','SQL','Machine Learning',\"R\",'Hadoop',\"Tableau\",'SPSS','Data Mining','STATA','SPSS',\n",
    "          'JavaScript','Power BI','Java','Business Intelligence']\n",
    "\n",
    "\n",
    "def get_skills(skill):\n",
    "    \n",
    "    skill_counter=0\n",
    "\n",
    "    for index,row in salary_df.iterrows():\n",
    "    \n",
    "        if skill in row[\"Skill\"]:\n",
    "            skill_counter += 1       \n",
    "    \n",
    "           # print(skill)\n",
    "    \n",
    "    return skill_counter\n",
    "\n",
    "counter=0\n",
    "\n",
    "total_skills = len(skills)\n",
    "\n",
    "\n",
    "for skill in skills:\n",
    "    \n",
    "    counter_curr=counter+get_skills(skill)\n",
    "    counter=0\n",
    "    \n",
    "    print(counter_curr)\n",
    "    \n",
    "#print(counter)\n",
    "\n"
   ]
  },
  {
   "cell_type": "code",
   "execution_count": 20,
   "metadata": {},
   "outputs": [],
   "source": [
    "counter_python=0\n",
    "counter_others=0\n",
    "counter_sql =0\n",
    "machine_learning_c=0\n",
    "counter_r= 0\n",
    "counter_hadoop=0\n",
    "counter_tableau=0\n",
    "\n",
    "for index,row in salary_df.iterrows():\n",
    "    \n",
    "    if \"Python\" in row[\"Skill\"]:\n",
    "        \n",
    "        counter_python += 1\n",
    "        \n",
    "    elif \"SQL\" in row[\"Skill\"]:\n",
    "        \n",
    "        counter_sql += 1 \n",
    "    \n",
    "    elif \"Machine Learning\" in row[\"Skill\"]:\n",
    "    \n",
    "        machine_learning_c +=1\n",
    "        \n",
    "    elif 'R' in row['Skill']:\n",
    "        \n",
    "        counter_r += 1\n",
    "        \n",
    "    elif 'Hadoop' in row['Skill']:\n",
    "        \n",
    "        counter_hadoop += 1       \n",
    "        \n",
    "    elif 'Tableau' in row['Skill']:\n",
    "        \n",
    "        counter_tableau += 1\n",
    "                 \n",
    "    else:\n",
    "        counter_others += 1\n",
    "            \n",
    "       \n",
    "print(counter_python)\n",
    "print(counter_sql)\n",
    "print(machine_learning_c)\n",
    "print(counter_r)\n",
    "print(counter_hadoop)\n",
    "print(counter_tableau)\n",
    "print(counter_others)"
   ]
  },
  {
   "cell_type": "code",
   "execution_count": 21,
   "metadata": {},
   "outputs": [
    {
     "data": {
      "text/html": [
       "<div>\n",
       "<style scoped>\n",
       "    .dataframe tbody tr th:only-of-type {\n",
       "        vertical-align: middle;\n",
       "    }\n",
       "\n",
       "    .dataframe tbody tr th {\n",
       "        vertical-align: top;\n",
       "    }\n",
       "\n",
       "    .dataframe thead th {\n",
       "        text-align: right;\n",
       "    }\n",
       "</style>\n",
       "<table border=\"1\" class=\"dataframe\">\n",
       "  <thead>\n",
       "    <tr style=\"text-align: right;\">\n",
       "      <th></th>\n",
       "      <th>Job_Title</th>\n",
       "      <th>Queried_Salary</th>\n",
       "      <th>Job_Type</th>\n",
       "      <th>Skill</th>\n",
       "      <th>Company</th>\n",
       "      <th>Location</th>\n",
       "      <th>Company_Industry</th>\n",
       "      <th>Python</th>\n",
       "      <th>SQL</th>\n",
       "      <th>Machine_Learning</th>\n",
       "      <th>R</th>\n",
       "      <th>Hadoop</th>\n",
       "      <th>Tableau</th>\n",
       "      <th>Others</th>\n",
       "    </tr>\n",
       "  </thead>\n",
       "  <tbody>\n",
       "    <tr>\n",
       "      <td>0</td>\n",
       "      <td>Data Scientist</td>\n",
       "      <td>&lt;80000</td>\n",
       "      <td>data_scientist</td>\n",
       "      <td>['SAP', 'SQL']</td>\n",
       "      <td>Express Scripts</td>\n",
       "      <td>MO</td>\n",
       "      <td>Health Care</td>\n",
       "      <td></td>\n",
       "      <td>True</td>\n",
       "      <td></td>\n",
       "      <td></td>\n",
       "      <td></td>\n",
       "      <td></td>\n",
       "      <td></td>\n",
       "    </tr>\n",
       "    <tr>\n",
       "      <td>1</td>\n",
       "      <td>Data Scientist</td>\n",
       "      <td>&lt;80000</td>\n",
       "      <td>data_scientist</td>\n",
       "      <td>['Machine Learning', 'R', 'SAS', 'SQL', 'Python']</td>\n",
       "      <td>Money Mart Financial Services</td>\n",
       "      <td>TX</td>\n",
       "      <td>Missln</td>\n",
       "      <td>True</td>\n",
       "      <td></td>\n",
       "      <td></td>\n",
       "      <td></td>\n",
       "      <td></td>\n",
       "      <td></td>\n",
       "      <td></td>\n",
       "    </tr>\n",
       "    <tr>\n",
       "      <td>2</td>\n",
       "      <td>Data Scientist</td>\n",
       "      <td>&lt;80000</td>\n",
       "      <td>data_scientist</td>\n",
       "      <td>['Data Mining', 'Data Management', 'R', 'SAS',...</td>\n",
       "      <td>comScore</td>\n",
       "      <td>OR</td>\n",
       "      <td>Missln</td>\n",
       "      <td>True</td>\n",
       "      <td></td>\n",
       "      <td></td>\n",
       "      <td></td>\n",
       "      <td></td>\n",
       "      <td></td>\n",
       "      <td></td>\n",
       "    </tr>\n",
       "    <tr>\n",
       "      <td>3</td>\n",
       "      <td>Graduate Studies Program - Data Scientist</td>\n",
       "      <td>&lt;80000</td>\n",
       "      <td>data_scientist</td>\n",
       "      <td>['Certified Internal Auditor']</td>\n",
       "      <td>Central Intelligence Agency</td>\n",
       "      <td>DC</td>\n",
       "      <td>Government</td>\n",
       "      <td></td>\n",
       "      <td></td>\n",
       "      <td></td>\n",
       "      <td></td>\n",
       "      <td></td>\n",
       "      <td></td>\n",
       "      <td></td>\n",
       "    </tr>\n",
       "    <tr>\n",
       "      <td>4</td>\n",
       "      <td>Data Scientist I</td>\n",
       "      <td>&lt;80000</td>\n",
       "      <td>data_scientist</td>\n",
       "      <td>['Statistical Software', 'Time Management', 'R...</td>\n",
       "      <td>Federal Reserve Bank of Dallas</td>\n",
       "      <td>TX</td>\n",
       "      <td>Banks and Financial Services</td>\n",
       "      <td></td>\n",
       "      <td></td>\n",
       "      <td></td>\n",
       "      <td>True</td>\n",
       "      <td></td>\n",
       "      <td></td>\n",
       "      <td></td>\n",
       "    </tr>\n",
       "  </tbody>\n",
       "</table>\n",
       "</div>"
      ],
      "text/plain": [
       "                                   Job_Title Queried_Salary        Job_Type  \\\n",
       "0                             Data Scientist         <80000  data_scientist   \n",
       "1                             Data Scientist         <80000  data_scientist   \n",
       "2                             Data Scientist         <80000  data_scientist   \n",
       "3  Graduate Studies Program - Data Scientist         <80000  data_scientist   \n",
       "4                           Data Scientist I         <80000  data_scientist   \n",
       "\n",
       "                                               Skill  \\\n",
       "0                                     ['SAP', 'SQL']   \n",
       "1  ['Machine Learning', 'R', 'SAS', 'SQL', 'Python']   \n",
       "2  ['Data Mining', 'Data Management', 'R', 'SAS',...   \n",
       "3                     ['Certified Internal Auditor']   \n",
       "4  ['Statistical Software', 'Time Management', 'R...   \n",
       "\n",
       "                          Company Location              Company_Industry  \\\n",
       "0                 Express Scripts       MO                   Health Care   \n",
       "1   Money Mart Financial Services       TX                        Missln   \n",
       "2                        comScore       OR                        Missln   \n",
       "3     Central Intelligence Agency       DC                    Government   \n",
       "4  Federal Reserve Bank of Dallas       TX  Banks and Financial Services   \n",
       "\n",
       "  Python   SQL Machine_Learning     R Hadoop Tableau Others  \n",
       "0         True                                               \n",
       "1   True                                                     \n",
       "2   True                                                     \n",
       "3                                                            \n",
       "4                                True                        "
      ]
     },
     "execution_count": 21,
     "metadata": {},
     "output_type": "execute_result"
    }
   ],
   "source": [
    "salary_df[\"Python\"] = ''\n",
    "salary_df[\"SQL\"] = ''\n",
    "salary_df[\"Machine_Learning\"] = ''\n",
    "salary_df[\"R\"] = ''\n",
    "salary_df[\"Hadoop\"] = ''\n",
    "salary_df[\"Tableau\"] = ''\n",
    "salary_df[\"Others\"] = ''\n",
    "\n",
    "\n",
    "for index,row in salary_df.iterrows():\n",
    "    \n",
    "    if \"Python\" in row[\"Skill\"]:\n",
    "        row[\"Python\"] = \"True\"\n",
    "    elif 'SQL' in row[\"Skill\"]:\n",
    "        row['SQL'] = \"True\"\n",
    "    elif 'Machine Learning' in row[\"Skill\"]:\n",
    "        row[\"Machine_Learning\"] = \"True\"\n",
    "    elif 'R' in row[\"Skill\"]:\n",
    "        row[\"R\"] = \"True\"\n",
    "    elif 'Hadoop' in row[\"Skill\"]:\n",
    "        row[\"Hadoop\"] = \"True\"\n",
    "    elif 'Tableau' in row[\"Skill\"]:\n",
    "        row[\"Tableau\"] = \"True\"\n",
    "\n",
    "    elif 'Others' in row[\"Skill\"]:\n",
    "        row['Others'] = \"True\"\n",
    "        \n",
    "salary_df.head()"
   ]
  },
  {
   "cell_type": "code",
   "execution_count": 22,
   "metadata": {},
   "outputs": [
    {
     "data": {
      "text/plain": [
       "Company_Industry\n",
       "Aerospace and Defense                127\n",
       "Agriculture and Extraction            18\n",
       "Auto                                  42\n",
       "Banks and Financial Services         455\n",
       "Computers and Electronics             99\n",
       "Construction                          14\n",
       "Consulting and Business Services     708\n",
       "Consumer Goods and Services          103\n",
       "Education and Schools                108\n",
       "Energy and Utilities                  45\n",
       "Food and Beverages                    19\n",
       "Government                            61\n",
       "Health Care                          304\n",
       "Human Resources and Staffing          73\n",
       "Industrial Manufacturing             148\n",
       "Insurance                            250\n",
       "Internet and Software                620\n",
       "Media, News and Publishing            95\n",
       "Missln                              1499\n",
       "Organization                          22\n",
       "Pharmaceuticals                       53\n",
       "Real Estate                           26\n",
       "Restaurants, Travel and Leisure       45\n",
       "Retail                               119\n",
       "Telecommunications                    71\n",
       "Transport and Freight                 42\n",
       "Name: Job_Type, dtype: int64"
      ]
     },
     "execution_count": 22,
     "metadata": {},
     "output_type": "execute_result"
    }
   ],
   "source": [
    "#DS job By Industry\n",
    "\n",
    "salary_df.groupby('Company_Industry')[\"Job_Type\"].count()"
   ]
  },
  {
   "cell_type": "code",
   "execution_count": 23,
   "metadata": {},
   "outputs": [
    {
     "data": {
      "text/plain": [
       "Location\n",
       "AL          16\n",
       "AR          27\n",
       "AZ          48\n",
       "CA        1321\n",
       "CO         104\n",
       "CT          73\n",
       "DC         131\n",
       "DE          16\n",
       "FL          99\n",
       "GA         127\n",
       "HI           6\n",
       "IA          30\n",
       "ID           6\n",
       "IL         228\n",
       "IN          42\n",
       "KS           9\n",
       "KY          12\n",
       "LA           6\n",
       "MA         245\n",
       "MD         163\n",
       "ME          13\n",
       "MI          81\n",
       "MN          62\n",
       "MO          74\n",
       "MT           1\n",
       "NC         130\n",
       "ND           1\n",
       "NE          10\n",
       "NH           7\n",
       "NJ         121\n",
       "NM           4\n",
       "NV          17\n",
       "NY         574\n",
       "OH          99\n",
       "OK           4\n",
       "OR          56\n",
       "PA         130\n",
       "REMOTE      11\n",
       "RI           7\n",
       "SC          23\n",
       "SD           1\n",
       "TN          43\n",
       "TX         312\n",
       "USA         68\n",
       "UT          34\n",
       "VA         323\n",
       "VT           2\n",
       "WA         207\n",
       "WI          37\n",
       "WV           3\n",
       "WY           2\n",
       "Name: Job_Type, dtype: int64"
      ]
     },
     "execution_count": 23,
     "metadata": {},
     "output_type": "execute_result"
    }
   ],
   "source": [
    "salary_df.groupby('Location')[\"Job_Type\"].count()"
   ]
  },
  {
   "cell_type": "code",
   "execution_count": 24,
   "metadata": {},
   "outputs": [
    {
     "data": {
      "text/plain": [
       "Job_Type        Queried_Salary\n",
       "data_analyst    <80000            617\n",
       "                80000-99999       548\n",
       "                100000-119999     277\n",
       "                >160000            72\n",
       "                120000-139999      67\n",
       "                140000-159999      45\n",
       "data_engineer   120000-139999     340\n",
       "                100000-119999     319\n",
       "                140000-159999     212\n",
       "                80000-99999        85\n",
       "                >160000            85\n",
       "                <80000             24\n",
       "data_scientist  120000-139999     758\n",
       "                100000-119999     692\n",
       "                140000-159999     545\n",
       "                80000-99999       225\n",
       "                >160000           211\n",
       "                <80000             44\n",
       "Name: Queried_Salary, dtype: int64"
      ]
     },
     "execution_count": 24,
     "metadata": {},
     "output_type": "execute_result"
    }
   ],
   "source": [
    "# DS salary by job type\n",
    "\n",
    "salary_df.groupby(\"Job_Type\")['Queried_Salary'].value_counts()\n"
   ]
  },
  {
   "cell_type": "code",
   "execution_count": 25,
   "metadata": {},
   "outputs": [
    {
     "data": {
      "text/plain": [
       "Job_Type        Python\n",
       "data_analyst              1114\n",
       "                True       512\n",
       "data_engineer   True       682\n",
       "                           383\n",
       "data_scientist  True      1895\n",
       "                           580\n",
       "Name: Python, dtype: int64"
      ]
     },
     "execution_count": 25,
     "metadata": {},
     "output_type": "execute_result"
    }
   ],
   "source": [
    "# DS salary by skill\n",
    "\n",
    "salary_df.groupby(\"Job_Type\")['Python'].value_counts()\n"
   ]
  },
  {
   "cell_type": "code",
   "execution_count": 26,
   "metadata": {},
   "outputs": [
    {
     "data": {
      "text/plain": [
       "Job_Type        Machine_Learning\n",
       "data_analyst                        1599\n",
       "                True                  27\n",
       "data_engineer                       1049\n",
       "                True                  16\n",
       "data_scientist                      2226\n",
       "                True                 249\n",
       "Name: Machine_Learning, dtype: int64"
      ]
     },
     "execution_count": 26,
     "metadata": {},
     "output_type": "execute_result"
    }
   ],
   "source": [
    "salary_df.groupby(\"Job_Type\")['Machine_Learning'].value_counts()\n"
   ]
  },
  {
   "cell_type": "code",
   "execution_count": 27,
   "metadata": {},
   "outputs": [
    {
     "data": {
      "text/plain": [
       "Job_Type        R   \n",
       "data_analyst            1564\n",
       "                True      62\n",
       "data_engineer           1046\n",
       "                True      19\n",
       "data_scientist          2450\n",
       "                True      25\n",
       "Name: R, dtype: int64"
      ]
     },
     "execution_count": 27,
     "metadata": {},
     "output_type": "execute_result"
    }
   ],
   "source": [
    "salary_df.groupby(\"Job_Type\")['R'].value_counts()"
   ]
  },
  {
   "cell_type": "code",
   "execution_count": 28,
   "metadata": {},
   "outputs": [
    {
     "data": {
      "text/plain": [
       "Job_Type        Hadoop\n",
       "data_analyst              1618\n",
       "                True         8\n",
       "data_engineer             1029\n",
       "                True        36\n",
       "data_scientist            2466\n",
       "                True         9\n",
       "Name: Hadoop, dtype: int64"
      ]
     },
     "execution_count": 28,
     "metadata": {},
     "output_type": "execute_result"
    }
   ],
   "source": [
    "salary_df.groupby(\"Job_Type\")['Hadoop'].value_counts()"
   ]
  },
  {
   "cell_type": "code",
   "execution_count": 29,
   "metadata": {},
   "outputs": [
    {
     "data": {
      "text/plain": [
       "Job_Type        SQL \n",
       "data_analyst             958\n",
       "                True     668\n",
       "data_engineer            792\n",
       "                True     273\n",
       "data_scientist          2291\n",
       "                True     184\n",
       "Name: SQL, dtype: int64"
      ]
     },
     "execution_count": 29,
     "metadata": {},
     "output_type": "execute_result"
    }
   ],
   "source": [
    "salary_df.groupby(\"Job_Type\")['SQL'].value_counts()"
   ]
  },
  {
   "cell_type": "code",
   "execution_count": 30,
   "metadata": {},
   "outputs": [
    {
     "data": {
      "text/plain": [
       "Job_Type        Tableau\n",
       "data_analyst               1566\n",
       "                True         60\n",
       "data_engineer              1064\n",
       "                True          1\n",
       "data_scientist             2455\n",
       "                True         20\n",
       "Name: Tableau, dtype: int64"
      ]
     },
     "execution_count": 30,
     "metadata": {},
     "output_type": "execute_result"
    }
   ],
   "source": [
    "salary_df.groupby(\"Job_Type\")[\"Tableau\"].value_counts()"
   ]
  },
  {
   "cell_type": "code",
   "execution_count": 31,
   "metadata": {},
   "outputs": [
    {
     "name": "stdout",
     "output_type": "stream",
     "text": [
      "<pandas.core.groupby.generic.DataFrameGroupBy object at 0x000000000D0A7608>\n"
     ]
    },
    {
     "data": {
      "text/html": [
       "<div>\n",
       "<style scoped>\n",
       "    .dataframe tbody tr th:only-of-type {\n",
       "        vertical-align: middle;\n",
       "    }\n",
       "\n",
       "    .dataframe tbody tr th {\n",
       "        vertical-align: top;\n",
       "    }\n",
       "\n",
       "    .dataframe thead th {\n",
       "        text-align: right;\n",
       "    }\n",
       "</style>\n",
       "<table border=\"1\" class=\"dataframe\">\n",
       "  <thead>\n",
       "    <tr style=\"text-align: right;\">\n",
       "      <th></th>\n",
       "    </tr>\n",
       "  </thead>\n",
       "  <tbody>\n",
       "  </tbody>\n",
       "</table>\n",
       "</div>"
      ],
      "text/plain": [
       "Empty DataFrame\n",
       "Columns: []\n",
       "Index: []"
      ]
     },
     "execution_count": 31,
     "metadata": {},
     "output_type": "execute_result"
    }
   ],
   "source": [
    "# trying to get skill by job type through single df ### not working\n",
    "\n",
    "jobtype_skil_df=salary_df.groupby(\"Job_Type\")[['Python','SQL','Machine_Learning',\"R\",'Hadoop',\"Tableau\"]]\n",
    "print(jobtype_skil_df)\n",
    "\n",
    "jobtype_skil_df.fillna('False', inplace=True)\n",
    "\n"
   ]
  },
  {
   "cell_type": "code",
   "execution_count": 32,
   "metadata": {},
   "outputs": [
    {
     "data": {
      "text/plain": [
       "Location  Company_Industry                \n",
       "AL        Aerospace and Defense               4\n",
       "          Banks and Financial Services        1\n",
       "          Construction                        1\n",
       "          Consulting and Business Services    2\n",
       "          Industrial Manufacturing            1\n",
       "                                             ..\n",
       "WV        Aerospace and Defense               1\n",
       "          Consulting and Business Services    1\n",
       "          Missln                              1\n",
       "WY        Media, News and Publishing          1\n",
       "          Missln                              1\n",
       "Name: Job_Type, Length: 538, dtype: int64"
      ]
     },
     "execution_count": 32,
     "metadata": {},
     "output_type": "execute_result"
    }
   ],
   "source": [
    "# JObs by [\"Company_Industry\"], Location\n",
    "\n",
    "group_salary_location=salary_df.groupby(['Location',\"Company_Industry\"])\n",
    "group_salary_location[\"Job_Type\"].count()\n"
   ]
  },
  {
   "cell_type": "code",
   "execution_count": 33,
   "metadata": {},
   "outputs": [
    {
     "data": {
      "text/plain": [
       "Location  Company_Industry                  Queried_Salary\n",
       "AL        Aerospace and Defense             80000-99999       4\n",
       "          Banks and Financial Services      100000-119999     1\n",
       "          Construction                      100000-119999     1\n",
       "          Consulting and Business Services  120000-139999     2\n",
       "          Industrial Manufacturing          80000-99999       1\n",
       "                                                             ..\n",
       "WV        Aerospace and Defense             80000-99999       1\n",
       "          Consulting and Business Services  100000-119999     1\n",
       "          Missln                            80000-99999       1\n",
       "WY        Media, News and Publishing        100000-119999     1\n",
       "          Missln                            80000-99999       1\n",
       "Name: Queried_Salary, Length: 1345, dtype: int64"
      ]
     },
     "execution_count": 33,
     "metadata": {},
     "output_type": "execute_result"
    }
   ],
   "source": [
    "# salary by lication and industry\n",
    "group_location_industry=salary_df.groupby([\"Location\",\"Company_Industry\"])[\"Queried_Salary\"].value_counts()\n",
    "group_location_industry"
   ]
  },
  {
   "cell_type": "code",
   "execution_count": 36,
   "metadata": {},
   "outputs": [
    {
     "data": {
      "text/plain": [
       "Location  Queried_Salary\n",
       "AL        80000-99999       7\n",
       "          100000-119999     5\n",
       "          120000-139999     3\n",
       "          <80000            1\n",
       "AR        100000-119999     9\n",
       "                           ..\n",
       "WI        <80000            6\n",
       "WV        80000-99999       2\n",
       "          100000-119999     1\n",
       "WY        100000-119999     1\n",
       "          80000-99999       1\n",
       "Name: Queried_Salary, Length: 230, dtype: int64"
      ]
     },
     "execution_count": 36,
     "metadata": {},
     "output_type": "execute_result"
    }
   ],
   "source": [
    "salary_df.groupby(\"Location\")['Queried_Salary'].value_counts()"
   ]
  },
  {
   "cell_type": "code",
   "execution_count": null,
   "metadata": {},
   "outputs": [],
   "source": []
  }
 ],
 "metadata": {
  "kernelspec": {
   "display_name": "Python 3",
   "language": "python",
   "name": "python3"
  },
  "language_info": {
   "codemirror_mode": {
    "name": "ipython",
    "version": 3
   },
   "file_extension": ".py",
   "mimetype": "text/x-python",
   "name": "python",
   "nbconvert_exporter": "python",
   "pygments_lexer": "ipython3",
   "version": "3.7.4"
  }
 },
 "nbformat": 4,
 "nbformat_minor": 2
}
